{
 "cells": [
  {
   "cell_type": "code",
   "execution_count": 1,
   "id": "45b6b61a",
   "metadata": {},
   "outputs": [],
   "source": [
    "#### Import\n",
    "import pandas as pd \n",
    "\n",
    "# from autoviz.AutoViz_Class import AutoViz_Class\n",
    "# %matplotlib inline\n",
    "\n",
    "# import sweetviz\n",
    "\n",
    "import warnings\n",
    "warnings.filterwarnings('ignore')\n",
    "\n",
    "import numpy as np\n",
    "import matplotlib.pyplot as plt \n",
    "import seaborn as sns\n",
    "import missingno as msno"
   ]
  },
  {
   "cell_type": "code",
   "execution_count": 2,
   "id": "bddb6866",
   "metadata": {},
   "outputs": [
    {
     "data": {
      "text/html": [
       "<div>\n",
       "<style scoped>\n",
       "    .dataframe tbody tr th:only-of-type {\n",
       "        vertical-align: middle;\n",
       "    }\n",
       "\n",
       "    .dataframe tbody tr th {\n",
       "        vertical-align: top;\n",
       "    }\n",
       "\n",
       "    .dataframe thead th {\n",
       "        text-align: right;\n",
       "    }\n",
       "</style>\n",
       "<table border=\"1\" class=\"dataframe\">\n",
       "  <thead>\n",
       "    <tr style=\"text-align: right;\">\n",
       "      <th></th>\n",
       "      <th>Year</th>\n",
       "      <th>Month</th>\n",
       "      <th>Day</th>\n",
       "      <th>Date</th>\n",
       "      <th>Order</th>\n",
       "      <th>CountryCode</th>\n",
       "      <th>SessionId</th>\n",
       "      <th>PageCategoryID</th>\n",
       "      <th>Page(ClothingModel)</th>\n",
       "      <th>ColorId</th>\n",
       "      <th>LocationId</th>\n",
       "      <th>model photography</th>\n",
       "      <th>Price</th>\n",
       "      <th>PriceGreaterThanAvgPrice</th>\n",
       "      <th>PageNo</th>\n",
       "      <th>Purchased</th>\n",
       "      <th>cust_ID</th>\n",
       "      <th>Combinations</th>\n",
       "    </tr>\n",
       "  </thead>\n",
       "  <tbody>\n",
       "    <tr>\n",
       "      <th>0</th>\n",
       "      <td>2008</td>\n",
       "      <td>4</td>\n",
       "      <td>1</td>\n",
       "      <td>2008-4-1</td>\n",
       "      <td>1</td>\n",
       "      <td>29</td>\n",
       "      <td>1</td>\n",
       "      <td>1</td>\n",
       "      <td>A13</td>\n",
       "      <td>1</td>\n",
       "      <td>5</td>\n",
       "      <td>en face</td>\n",
       "      <td>28</td>\n",
       "      <td>No</td>\n",
       "      <td>1</td>\n",
       "      <td>Yes</td>\n",
       "      <td>cust_4608</td>\n",
       "      <td>29_1</td>\n",
       "    </tr>\n",
       "    <tr>\n",
       "      <th>1</th>\n",
       "      <td>2008</td>\n",
       "      <td>4</td>\n",
       "      <td>1</td>\n",
       "      <td>2008-4-1</td>\n",
       "      <td>2</td>\n",
       "      <td>29</td>\n",
       "      <td>1</td>\n",
       "      <td>1</td>\n",
       "      <td>A16</td>\n",
       "      <td>1</td>\n",
       "      <td>6</td>\n",
       "      <td>en face</td>\n",
       "      <td>33</td>\n",
       "      <td>No</td>\n",
       "      <td>1</td>\n",
       "      <td>No</td>\n",
       "      <td>cust_4608</td>\n",
       "      <td>29_1</td>\n",
       "    </tr>\n",
       "  </tbody>\n",
       "</table>\n",
       "</div>"
      ],
      "text/plain": [
       "   Year  Month  Day      Date  Order  CountryCode  SessionId  PageCategoryID  \\\n",
       "0  2008      4    1  2008-4-1      1           29          1               1   \n",
       "1  2008      4    1  2008-4-1      2           29          1               1   \n",
       "\n",
       "  Page(ClothingModel)  ColorId  LocationId model photography  Price  \\\n",
       "0                 A13        1           5           en face     28   \n",
       "1                 A16        1           6           en face     33   \n",
       "\n",
       "  PriceGreaterThanAvgPrice  PageNo Purchased    cust_ID Combinations  \n",
       "0                       No       1       Yes  cust_4608         29_1  \n",
       "1                       No       1        No  cust_4608         29_1  "
      ]
     },
     "execution_count": 2,
     "metadata": {},
     "output_type": "execute_result"
    }
   ],
   "source": [
    "### Read Data\n",
    "\n",
    "df = pd.read_excel('e-shop clothing 2008_new.xlsx')\n",
    "df['Combinations'] = df['CountryCode'].astype(str) + \"_\" + df['SessionId'].astype(str)\n",
    "df.head(2)"
   ]
  },
  {
   "cell_type": "code",
   "execution_count": null,
   "id": "8a2c8862",
   "metadata": {},
   "outputs": [],
   "source": []
  },
  {
   "cell_type": "markdown",
   "id": "45a9c534",
   "metadata": {},
   "source": [
    "# Creating Customer ID"
   ]
  },
  {
   "cell_type": "code",
   "execution_count": 3,
   "id": "a54b3080",
   "metadata": {},
   "outputs": [
    {
     "name": "stdout",
     "output_type": "stream",
     "text": [
      "Length of data: 24026\n"
     ]
    },
    {
     "data": {
      "text/html": [
       "<div>\n",
       "<style scoped>\n",
       "    .dataframe tbody tr th:only-of-type {\n",
       "        vertical-align: middle;\n",
       "    }\n",
       "\n",
       "    .dataframe tbody tr th {\n",
       "        vertical-align: top;\n",
       "    }\n",
       "\n",
       "    .dataframe thead th {\n",
       "        text-align: right;\n",
       "    }\n",
       "</style>\n",
       "<table border=\"1\" class=\"dataframe\">\n",
       "  <thead>\n",
       "    <tr style=\"text-align: right;\">\n",
       "      <th></th>\n",
       "      <th>CountryCode</th>\n",
       "      <th>SessionId</th>\n",
       "      <th>Combinations</th>\n",
       "    </tr>\n",
       "  </thead>\n",
       "  <tbody>\n",
       "    <tr>\n",
       "      <th>0</th>\n",
       "      <td>29</td>\n",
       "      <td>1</td>\n",
       "      <td>29_1</td>\n",
       "    </tr>\n",
       "    <tr>\n",
       "      <th>1</th>\n",
       "      <td>29</td>\n",
       "      <td>2</td>\n",
       "      <td>29_2</td>\n",
       "    </tr>\n",
       "  </tbody>\n",
       "</table>\n",
       "</div>"
      ],
      "text/plain": [
       "   CountryCode  SessionId Combinations\n",
       "0           29          1         29_1\n",
       "1           29          2         29_2"
      ]
     },
     "execution_count": 3,
     "metadata": {},
     "output_type": "execute_result"
    }
   ],
   "source": [
    "# Coun_sess_df = df[['CountryCode','SessionId','Combinations']].drop_duplicates().reset_index(drop=True)\n",
    "# print(\"Length of data:\", len(Coun_sess_df))\n",
    "# Coun_sess_df.head(2)"
   ]
  },
  {
   "cell_type": "code",
   "execution_count": 5,
   "id": "fb3043e1",
   "metadata": {},
   "outputs": [
    {
     "data": {
      "text/html": [
       "<div>\n",
       "<style scoped>\n",
       "    .dataframe tbody tr th:only-of-type {\n",
       "        vertical-align: middle;\n",
       "    }\n",
       "\n",
       "    .dataframe tbody tr th {\n",
       "        vertical-align: top;\n",
       "    }\n",
       "\n",
       "    .dataframe thead th {\n",
       "        text-align: right;\n",
       "    }\n",
       "</style>\n",
       "<table border=\"1\" class=\"dataframe\">\n",
       "  <thead>\n",
       "    <tr style=\"text-align: right;\">\n",
       "      <th></th>\n",
       "      <th>Combinations</th>\n",
       "      <th>CustId</th>\n",
       "    </tr>\n",
       "  </thead>\n",
       "  <tbody>\n",
       "    <tr>\n",
       "      <th>0</th>\n",
       "      <td>29_1</td>\n",
       "      <td>13885</td>\n",
       "    </tr>\n",
       "    <tr>\n",
       "      <th>1</th>\n",
       "      <td>29_2</td>\n",
       "      <td>7942</td>\n",
       "    </tr>\n",
       "  </tbody>\n",
       "</table>\n",
       "</div>"
      ],
      "text/plain": [
       "  Combinations  CustId\n",
       "0         29_1   13885\n",
       "1         29_2    7942"
      ]
     },
     "execution_count": 5,
     "metadata": {},
     "output_type": "execute_result"
    }
   ],
   "source": [
    "# Main_list = []\n",
    "\n",
    "\n",
    "# for i in list(Coun_sess_df['CountryCode'].unique()):\n",
    "    \n",
    "#     Test_df = Coun_sess_df[Coun_sess_df['CountryCode'] == i]\n",
    "    \n",
    "#     try:\n",
    "#         # Concatenate the list of DataFrames into one DataFrame\n",
    "#         result_df = pd.concat(Main_list, ignore_index=True)\n",
    "#     except:\n",
    "#         pass\n",
    "    \n",
    "#     try:\n",
    "#         cust_ids = np.random.choice(range(len(result_df), len(result_df) + len(Test_df) ), size=len(Test_df))\n",
    "#     except:\n",
    "#         cust_ids = np.random.choice(range(1,len(Test_df) ), size=len(Test_df))\n",
    "    \n",
    "#     Test_df['CustId'] = cust_ids\n",
    "    \n",
    "#     Main_list.append(Test_df)\n",
    "    \n",
    "    \n",
    "# # Concatenate the list of DataFrames into one DataFrame\n",
    "# result_df = pd.concat(Main_list, ignore_index=True)\n",
    "# result_df = result_df[['Combinations','CustId']].drop_duplicates().reset_index(drop=True)\n",
    "# result_df.head(2)"
   ]
  },
  {
   "cell_type": "code",
   "execution_count": 8,
   "id": "b8b1b2b3",
   "metadata": {},
   "outputs": [],
   "source": [
    "# #### Merging CustId\n",
    "# pd.merge(df, result_df, on = ['Combinations'], how='inner').to_excel('e-shop clothing 2008_new.xlsx')\n"
   ]
  },
  {
   "cell_type": "code",
   "execution_count": 3,
   "id": "ff470503",
   "metadata": {},
   "outputs": [],
   "source": [
    "# import pandas as pd\n",
    "# import numpy as np\n",
    "\n",
    "# ####### Creating Age Column\n",
    "# Customers_df = pd.read_excel('CustomerData.xlsx')\n",
    "# Customers_df['Age'] = np.random.randint(10,70, size=len(Customers_df))\n",
    "# del Customers_df['Gender']\n",
    "\n",
    "# Customers_df.to_excel('CustomerData.xlsx')"
   ]
  },
  {
   "cell_type": "code",
   "execution_count": null,
   "id": "78e02348",
   "metadata": {},
   "outputs": [],
   "source": []
  },
  {
   "cell_type": "code",
   "execution_count": null,
   "id": "d5a4b2a2",
   "metadata": {},
   "outputs": [],
   "source": []
  },
  {
   "cell_type": "code",
   "execution_count": null,
   "id": "24b2c04c",
   "metadata": {},
   "outputs": [],
   "source": []
  },
  {
   "cell_type": "code",
   "execution_count": null,
   "id": "be6b8f61",
   "metadata": {},
   "outputs": [],
   "source": []
  },
  {
   "cell_type": "code",
   "execution_count": null,
   "id": "27aad250",
   "metadata": {},
   "outputs": [],
   "source": []
  },
  {
   "cell_type": "code",
   "execution_count": null,
   "id": "f5647c7e",
   "metadata": {},
   "outputs": [],
   "source": [
    "# viz = AutoViz_Class() \n",
    "# viz_df = viz.AutoViz(filename = '',dfte= df, verbose =1)"
   ]
  },
  {
   "cell_type": "code",
   "execution_count": null,
   "id": "9b9f6518",
   "metadata": {},
   "outputs": [],
   "source": [
    "#### Missing data\n",
    "\n",
    "msno.matrix(df)"
   ]
  },
  {
   "cell_type": "code",
   "execution_count": null,
   "id": "e64d8c08",
   "metadata": {},
   "outputs": [],
   "source": [
    "### Other dfs\n",
    "\n",
    "Colors_df = pd.read_excel('Colors.xlsx')\n",
    "Countries_df = pd.read_excel('Countries.xlsx')\n",
    "Customers_df = pd.read_excel('CustomerData.xlsx')\n",
    "PageCategory_df = pd.read_excel('PageNo.xlsx')\n",
    "Location_df = pd.read_excel('Location.xlsx')"
   ]
  },
  {
   "cell_type": "code",
   "execution_count": null,
   "id": "9d499cd6",
   "metadata": {},
   "outputs": [],
   "source": [
    "Colors_df.head(2)"
   ]
  },
  {
   "cell_type": "code",
   "execution_count": null,
   "id": "d56504ff",
   "metadata": {},
   "outputs": [],
   "source": [
    "df = pd.merge(Colors_df, df, on = ['ColorId'], how = 'inner')\n",
    "df = pd.merge(Countries_df, df, on = ['CountryCode'], how = 'inner')\n",
    "df = pd.merge(Customers_df, df, on = ['cust_ID'], how = 'inner')\n",
    "df = pd.merge(PageCategory_df, df, on = ['PageCategoryID'], how = 'inner')\n",
    "df = pd.merge(Location_df, df, on = ['LocationId'], how = 'inner')"
   ]
  },
  {
   "cell_type": "code",
   "execution_count": null,
   "id": "d8378db8",
   "metadata": {},
   "outputs": [],
   "source": [
    "test = df.groupby(['cust_ID'])['CountryName'].nunique().reset_index()\n",
    "test[test['CountryName'] > 1] "
   ]
  },
  {
   "cell_type": "code",
   "execution_count": null,
   "id": "7cf97c17",
   "metadata": {},
   "outputs": [],
   "source": [
    "df[df['Cust_ID'] == 'Cust_1']"
   ]
  },
  {
   "cell_type": "code",
   "execution_count": null,
   "id": "38ef2167",
   "metadata": {},
   "outputs": [],
   "source": []
  }
 ],
 "metadata": {
  "kernelspec": {
   "display_name": "Python 3 (ipykernel)",
   "language": "python",
   "name": "python3"
  },
  "language_info": {
   "codemirror_mode": {
    "name": "ipython",
    "version": 3
   },
   "file_extension": ".py",
   "mimetype": "text/x-python",
   "name": "python",
   "nbconvert_exporter": "python",
   "pygments_lexer": "ipython3",
   "version": "3.9.16"
  }
 },
 "nbformat": 4,
 "nbformat_minor": 5
}
