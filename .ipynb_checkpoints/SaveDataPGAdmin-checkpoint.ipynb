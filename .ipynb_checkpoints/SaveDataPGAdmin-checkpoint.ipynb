{
 "cells": [
  {
   "cell_type": "code",
   "execution_count": 1,
   "id": "45b6b61a",
   "metadata": {},
   "outputs": [],
   "source": [
    "#### Import\n",
    "import pandas as pd \n",
    "pd.set_option('display.max_columns',500)\n",
    "\n",
    "# from autoviz.AutoViz_Class import AutoViz_Class\n",
    "# %matplotlib inline\n",
    "\n",
    "# import sweetviz\n",
    "\n",
    "import warnings\n",
    "warnings.filterwarnings('ignore')\n",
    "\n",
    "import numpy as np\n",
    "import seaborn as sns \n",
    "import matplotlib.ticker as mtick  \n",
    "import matplotlib.pyplot as plt\n",
    "%matplotlib inline\n",
    "import missingno as msno\n",
    "import plotly.express as px\n",
    "import plotly.graph_objects as go\n",
    "\n"
   ]
  },
  {
   "cell_type": "code",
   "execution_count": null,
   "id": "bddb6866",
   "metadata": {},
   "outputs": [],
   "source": [
    "### Read Data\n",
    "\n",
    "df = pd.read_excel('e-shop clothing 2008_new.xlsx')\n",
    "df.head(2)"
   ]
  },
  {
   "cell_type": "code",
   "execution_count": null,
   "id": "27aad250",
   "metadata": {},
   "outputs": [],
   "source": []
  },
  {
   "cell_type": "code",
   "execution_count": null,
   "id": "f5647c7e",
   "metadata": {},
   "outputs": [],
   "source": [
    "# viz = AutoViz_Class() \n",
    "# viz_df = viz.AutoViz(filename = '',dfte= df, verbose =1)"
   ]
  },
  {
   "cell_type": "code",
   "execution_count": null,
   "id": "9b9f6518",
   "metadata": {},
   "outputs": [],
   "source": [
    "#### Missing data\n",
    "\n",
    "msno.matrix(df)"
   ]
  },
  {
   "cell_type": "code",
   "execution_count": null,
   "id": "e64d8c08",
   "metadata": {},
   "outputs": [],
   "source": [
    "### Other dfs\n",
    "\n",
    "Colors_df = pd.read_excel('Colors.xlsx')\n",
    "Countries_df = pd.read_excel('Countries.xlsx')\n",
    "Customers_df = pd.read_excel('CustomerData.xlsx')\n",
    "PageCategory_df = pd.read_excel('PageNo.xlsx')\n",
    "Location_df = pd.read_excel('Location.xlsx')"
   ]
  },
  {
   "cell_type": "code",
   "execution_count": null,
   "id": "9d499cd6",
   "metadata": {},
   "outputs": [],
   "source": [
    "Colors_df.head(2)"
   ]
  },
  {
   "cell_type": "code",
   "execution_count": null,
   "id": "d56504ff",
   "metadata": {},
   "outputs": [],
   "source": [
    "df = pd.merge(Colors_df, df, on = ['ColorId'], how = 'inner')\n",
    "df = pd.merge(Countries_df, df, on = ['CountryCode'], how = 'inner')\n",
    "df = pd.merge(Customers_df, df, on = ['CustId'], how = 'inner')\n",
    "df = pd.merge(PageCategory_df, df, on = ['PageCategoryID'], how = 'inner')\n",
    "df = pd.merge(Location_df, df, on = ['LocationId'], how = 'inner')"
   ]
  },
  {
   "cell_type": "code",
   "execution_count": null,
   "id": "d8378db8",
   "metadata": {},
   "outputs": [],
   "source": [
    "test = df.groupby(['CustId'])['CountryName'].nunique().reset_index()\n",
    "test[test['CountryName'] > 1] "
   ]
  },
  {
   "cell_type": "code",
   "execution_count": null,
   "id": "834356a7",
   "metadata": {},
   "outputs": [],
   "source": [
    "df.head(2)"
   ]
  },
  {
   "cell_type": "code",
   "execution_count": null,
   "id": "b83535a7",
   "metadata": {},
   "outputs": [],
   "source": []
  },
  {
   "cell_type": "code",
   "execution_count": null,
   "id": "7cf97c17",
   "metadata": {},
   "outputs": [],
   "source": [
    "##### converting into float\n",
    "## df['Order'] = df['Order'].astype(str)\n",
    "## df['PageNo'] = df['PageNo'].astype(str)\n",
    "## df['SessionId'] = df['SessionId'].astype(str)\n",
    "\n",
    "\n",
    "### sorting columns\n",
    "df = df[[ 'SessionId', 'Location', 'PageCategory', 'CustId',\n",
    "       'Age', 'CountryName', 'ColorName',\n",
    "       'Year', 'Month', 'Day', 'Date', 'Order',\n",
    "       'Page(ClothingModel)', 'model photography', 'Price',\n",
    "       'PriceGreaterThanAvgPrice', 'PageNo', 'Purchased']]\n",
    "\n",
    "\n",
    "df = df.sort_values(by = ['SessionId','Order'], ascending=True).reset_index(drop=True)\n",
    "df.head(2)"
   ]
  },
  {
   "cell_type": "code",
   "execution_count": null,
   "id": "ff07f130",
   "metadata": {},
   "outputs": [],
   "source": []
  },
  {
   "cell_type": "code",
   "execution_count": null,
   "id": "aac4e8f4",
   "metadata": {},
   "outputs": [],
   "source": [
    "######## save data\n",
    "\n",
    "df.rename(columns = {'Page(ClothingModel)':'Page_ClothingModel',\n",
    "                    'model photography':'ModelPhotography'}, inplace=True)\n",
    "\n",
    "\n",
    "df['Purchased'] = df['Purchased'].map({'Yes': True, 'No': False})\n",
    "df['PriceGreaterThanAvgPrice'] = df['PriceGreaterThanAvgPrice'].map({'Yes': True, 'No': False})\n",
    "\n",
    "df[['SessionId','Location', 'PageCategory', 'CustId',\n",
    "       'Age', 'CountryName', 'ColorName',\n",
    "        'Date', 'Order',\n",
    "       'Page_ClothingModel', 'ModelPhotography', 'Price',\n",
    "       'PriceGreaterThanAvgPrice', 'PageNo', 'Purchased']].reset_index(drop=True).info()"
   ]
  },
  {
   "cell_type": "code",
   "execution_count": null,
   "id": "5d523bfd",
   "metadata": {},
   "outputs": [],
   "source": []
  },
  {
   "cell_type": "code",
   "execution_count": null,
   "id": "d9212744",
   "metadata": {},
   "outputs": [],
   "source": [
    "###### save data\n",
    "\n",
    "df[['SessionId','Location', 'PageCategory', 'CustId',\n",
    "       'Age', 'CountryName', 'ColorName',\n",
    "        'Date', 'Order',\n",
    "       'Page_ClothingModel', 'ModelPhotography', 'Price',\n",
    "       'PriceGreaterThanAvgPrice', 'PageNo', 'Purchased']].reset_index(drop=True).to_csv('ClickStream_DataSave.csv')"
   ]
  },
  {
   "cell_type": "code",
   "execution_count": null,
   "id": "94f27a43",
   "metadata": {},
   "outputs": [],
   "source": [
    "df.info()"
   ]
  },
  {
   "cell_type": "code",
   "execution_count": null,
   "id": "bfc8869d",
   "metadata": {},
   "outputs": [],
   "source": [
    "df['PriceGreaterThanAvgPrice'].value_counts()"
   ]
  },
  {
   "cell_type": "code",
   "execution_count": null,
   "id": "5a2c479f",
   "metadata": {},
   "outputs": [],
   "source": [
    "df['Purchased'].value_counts()"
   ]
  },
  {
   "cell_type": "code",
   "execution_count": null,
   "id": "ca5385cd",
   "metadata": {},
   "outputs": [],
   "source": []
  },
  {
   "cell_type": "code",
   "execution_count": null,
   "id": "72515394",
   "metadata": {},
   "outputs": [],
   "source": [
    "df['SessionId'].min(), df['SessionId'].max()"
   ]
  },
  {
   "cell_type": "code",
   "execution_count": null,
   "id": "f4f4d7bb",
   "metadata": {},
   "outputs": [],
   "source": []
  },
  {
   "cell_type": "code",
   "execution_count": null,
   "id": "71ab3f6d",
   "metadata": {},
   "outputs": [],
   "source": []
  }
 ],
 "metadata": {
  "kernelspec": {
   "display_name": "Python 3 (ipykernel)",
   "language": "python",
   "name": "python3"
  },
  "language_info": {
   "codemirror_mode": {
    "name": "ipython",
    "version": 3
   },
   "file_extension": ".py",
   "mimetype": "text/x-python",
   "name": "python",
   "nbconvert_exporter": "python",
   "pygments_lexer": "ipython3",
   "version": "3.9.16"
  }
 },
 "nbformat": 4,
 "nbformat_minor": 5
}
